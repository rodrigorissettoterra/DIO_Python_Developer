{
  "nbformat": 4,
  "nbformat_minor": 0,
  "metadata": {
    "colab": {
      "provenance": [],
      "authorship_tag": "ABX9TyP+IWLDIOp2oFw495AjFp7w",
      "include_colab_link": true
    },
    "kernelspec": {
      "name": "python3",
      "display_name": "Python 3"
    },
    "language_info": {
      "name": "python"
    }
  },
  "cells": [
    {
      "cell_type": "markdown",
      "metadata": {
        "id": "view-in-github",
        "colab_type": "text"
      },
      "source": [
        "<a href=\"https://colab.research.google.com/github/rodrigorissettoterra/DIO_Python_Developer/blob/main/Sistema_Banc%C3%A1rio_com_Python.ipynb\" target=\"_parent\"><img src=\"https://colab.research.google.com/assets/colab-badge.svg\" alt=\"Open In Colab\"/></a>"
      ]
    },
    {
      "cell_type": "code",
      "execution_count": 1,
      "metadata": {
        "id": "JBN6pL27WM8m"
      },
      "outputs": [],
      "source": [
        "class ContaBancaria:\n",
        "    def __init__(self, nome, saldo=0):\n",
        "        self.nome = nome\n",
        "        self.saldo = saldo\n",
        "\n",
        "    def deposito(self, valor):\n",
        "        self.saldo += valor\n",
        "        print(f'Depósito de R${valor} realizado. Novo saldo: R${self.saldo:.2f}')\n",
        "\n",
        "    def saque(self, valor):\n",
        "        if valor > self.saldo:\n",
        "            print(\"Saldo insuficiente.\")\n",
        "        else:\n",
        "            self.saldo -= valor\n",
        "            print(f'Saque de R${valor} realizado. Novo saldo: R${self.saldo:.2f}')\n",
        "\n",
        "    def verificar_saldo(self):\n",
        "        print(f'Saldo atual da conta de {self.nome}: R${self.saldo:.2f}')"
      ]
    },
    {
      "cell_type": "code",
      "source": [
        "if __name__ == \"__main__\":\n",
        "    # Criando uma conta interagindo com o usuário\n",
        "    nome_titular = input(\"Digite o nome do titular da conta: \")\n",
        "    conta = ContaBancaria(nome_titular)\n",
        "\n",
        "    # Mostrando opções para o usuário\n",
        "    while True:\n",
        "        print(\"\\nOpções:\")\n",
        "        print(\"1. Verificar saldo\")\n",
        "        print(\"2. Realizar depósito\")\n",
        "        print(\"3. Realizar saque\")\n",
        "        print(\"4. Sair\")\n",
        "\n",
        "        opcao = input(\"Escolha uma opção (1/2/3/4): \")\n",
        "\n",
        "        if opcao == \"1\":\n",
        "            conta.verificar_saldo()\n",
        "        elif opcao == \"2\":\n",
        "            valor_deposito = float(input(\"Digite o valor para depósito: \"))\n",
        "            conta.deposito(valor_deposito)\n",
        "        elif opcao == \"3\":\n",
        "            valor_saque = float(input(\"Digite o valor para saque: \"))\n",
        "            conta.saque(valor_saque)\n",
        "        elif opcao == \"4\":\n",
        "            print(\"Saindo do sistema.\")\n",
        "            break\n",
        "        else:\n",
        "            print(\"Opção inválida. Tente novamente.\")\n"
      ],
      "metadata": {
        "colab": {
          "base_uri": "https://localhost:8080/"
        },
        "id": "xWK5RKjwWVH0",
        "outputId": "9ce8917c-323d-46c5-8fff-e882f77f26bb"
      },
      "execution_count": 2,
      "outputs": [
        {
          "output_type": "stream",
          "name": "stdout",
          "text": [
            "Digite o nome do titular da conta: Rodrigo Terra\n",
            "\n",
            "Opções:\n",
            "1. Verificar saldo\n",
            "2. Realizar depósito\n",
            "3. Realizar saque\n",
            "4. Sair\n",
            "Escolha uma opção (1/2/3/4): 1\n",
            "Saldo atual da conta de Rodrigo Terra: R$0.00\n",
            "\n",
            "Opções:\n",
            "1. Verificar saldo\n",
            "2. Realizar depósito\n",
            "3. Realizar saque\n",
            "4. Sair\n",
            "Escolha uma opção (1/2/3/4): 2\n",
            "Digite o valor para depósito: 100\n",
            "Depósito de R$100.0 realizado. Novo saldo: R$100.00\n",
            "\n",
            "Opções:\n",
            "1. Verificar saldo\n",
            "2. Realizar depósito\n",
            "3. Realizar saque\n",
            "4. Sair\n",
            "Escolha uma opção (1/2/3/4): 1\n",
            "Saldo atual da conta de Rodrigo Terra: R$100.00\n",
            "\n",
            "Opções:\n",
            "1. Verificar saldo\n",
            "2. Realizar depósito\n",
            "3. Realizar saque\n",
            "4. Sair\n",
            "Escolha uma opção (1/2/3/4): 3\n",
            "Digite o valor para saque: 1000\n",
            "Saldo insuficiente.\n",
            "\n",
            "Opções:\n",
            "1. Verificar saldo\n",
            "2. Realizar depósito\n",
            "3. Realizar saque\n",
            "4. Sair\n",
            "Escolha uma opção (1/2/3/4): 100\n",
            "Opção inválida. Tente novamente.\n",
            "\n",
            "Opções:\n",
            "1. Verificar saldo\n",
            "2. Realizar depósito\n",
            "3. Realizar saque\n",
            "4. Sair\n",
            "Escolha uma opção (1/2/3/4): 1\n",
            "Saldo atual da conta de Rodrigo Terra: R$100.00\n",
            "\n",
            "Opções:\n",
            "1. Verificar saldo\n",
            "2. Realizar depósito\n",
            "3. Realizar saque\n",
            "4. Sair\n",
            "Escolha uma opção (1/2/3/4): 3\n",
            "Digite o valor para saque: 100\n",
            "Saque de R$100.0 realizado. Novo saldo: R$0.00\n",
            "\n",
            "Opções:\n",
            "1. Verificar saldo\n",
            "2. Realizar depósito\n",
            "3. Realizar saque\n",
            "4. Sair\n",
            "Escolha uma opção (1/2/3/4): 1\n",
            "Saldo atual da conta de Rodrigo Terra: R$0.00\n",
            "\n",
            "Opções:\n",
            "1. Verificar saldo\n",
            "2. Realizar depósito\n",
            "3. Realizar saque\n",
            "4. Sair\n",
            "Escolha uma opção (1/2/3/4): 4\n",
            "Saindo do sistema.\n"
          ]
        }
      ]
    },
    {
      "cell_type": "code",
      "source": [],
      "metadata": {
        "id": "dSjdVPSiWVgs"
      },
      "execution_count": null,
      "outputs": []
    }
  ]
}